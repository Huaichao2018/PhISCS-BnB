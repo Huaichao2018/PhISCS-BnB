{
 "cells": [
  {
   "cell_type": "code",
   "execution_count": 6,
   "metadata": {},
   "outputs": [],
   "source": [
    "import numpy as np\n",
    "import datetime"
   ]
  },
  {
   "cell_type": "code",
   "execution_count": 3,
   "metadata": {},
   "outputs": [],
   "source": [
    "I = np.array([\n",
    "    [0,1,1,0],\n",
    "    [1,0,0,1],\n",
    "    [1,1,0,0],\n",
    "    [0,0,1,0]\n",
    "])"
   ]
  },
  {
   "cell_type": "code",
   "execution_count": 68,
   "metadata": {},
   "outputs": [],
   "source": [
    "I = np.array([\n",
    "    [0,1,1,0],\n",
    "    [1,1,0,1],\n",
    "    [1,1,0,0],\n",
    "    [0,1,1,0]\n",
    "])"
   ]
  },
  {
   "cell_type": "code",
   "execution_count": 61,
   "metadata": {},
   "outputs": [],
   "source": [
    "I = np.array([\n",
    "    [0,1,1,0,1],\n",
    "    [1,0,0,1,1],\n",
    "    [1,1,0,0,0],\n",
    "    [0,0,1,0,0]\n",
    "])"
   ]
  },
  {
   "cell_type": "code",
   "execution_count": 5,
   "metadata": {},
   "outputs": [],
   "source": [
    "I = np.random.randint(2, size=(100,100))"
   ]
  },
  {
   "cell_type": "code",
   "execution_count": 8,
   "metadata": {},
   "outputs": [],
   "source": [
    "def is_conflict_free_farid(D):\n",
    "    conflict_free = True\n",
    "    for p in range(D.shape[1]):\n",
    "        for q in range(p + 1, D.shape[1]):\n",
    "            oneone = False\n",
    "            zeroone = False\n",
    "            onezero = False\n",
    "            for r in range(D.shape[0]):\n",
    "                if D[r][p] == 1 and D[r][q] == 1:\n",
    "                    oneone = True\n",
    "                if D[r][p] == 0 and D[r][q] == 1:\n",
    "                    zeroone = True\n",
    "                if D[r][p] == 1 and D[r][q] == 0:\n",
    "                    onezero = True\n",
    "            if oneone and zeroone and onezero:\n",
    "                conflict_free = False\n",
    "    return conflict_free"
   ]
  },
  {
   "cell_type": "code",
   "execution_count": 9,
   "metadata": {},
   "outputs": [
    {
     "name": "stdout",
     "output_type": "stream",
     "text": [
      "487394\n"
     ]
    }
   ],
   "source": [
    "a = datetime.datetime.now()\n",
    "is_conflict_free_farid(I)\n",
    "b = datetime.datetime.now()\n",
    "c = b - a\n",
    "print(c.microseconds)"
   ]
  },
  {
   "cell_type": "code",
   "execution_count": 10,
   "metadata": {},
   "outputs": [],
   "source": [
    "def is_conflict_free_gusfield(I):\n",
    "    def sort_bin(a):\n",
    "        b = np.transpose(a)\n",
    "        b_view = np.ascontiguousarray(b).view(np.dtype((np.void, b.dtype.itemsize * b.shape[1])))\n",
    "        c = b[np.argsort(b_view.ravel())[::-1]]\n",
    "        return np.transpose(c)\n",
    "\n",
    "    O = sort_bin(I)\n",
    "    #print(O, '\\n')\n",
    "    Lij = np.zeros(O.shape, dtype=int)\n",
    "    for i in range(O.shape[0]):\n",
    "        minK = 0\n",
    "        for j in range(O.shape[1]):\n",
    "            if O[i,j] == 1:\n",
    "                Lij[i,j] = minK\n",
    "                minK = j+1\n",
    "    #print(Lij, '\\n')\n",
    "    Lj = np.amax(Lij, axis=0)\n",
    "    #print(Lj, '\\n')\n",
    "\n",
    "    for i in range(O.shape[0]):\n",
    "        for j in range(O.shape[1]):\n",
    "            if O[i,j] == 1:\n",
    "                if Lij[i,j] != Lj[j]:\n",
    "                    return False\n",
    "    return True"
   ]
  },
  {
   "cell_type": "code",
   "execution_count": 11,
   "metadata": {},
   "outputs": [
    {
     "name": "stdout",
     "output_type": "stream",
     "text": [
      "6314\n"
     ]
    }
   ],
   "source": [
    "a = datetime.datetime.now()\n",
    "is_conflict_free_gusfield(I)\n",
    "b = datetime.datetime.now()\n",
    "c = b - a\n",
    "print(c.microseconds)"
   ]
  },
  {
   "cell_type": "code",
   "execution_count": null,
   "metadata": {},
   "outputs": [],
   "source": []
  }
 ],
 "metadata": {
  "kernelspec": {
   "display_name": "Python 3",
   "language": "python",
   "name": "python3"
  },
  "language_info": {
   "codemirror_mode": {
    "name": "ipython",
    "version": 3
   },
   "file_extension": ".py",
   "mimetype": "text/x-python",
   "name": "python",
   "nbconvert_exporter": "python",
   "pygments_lexer": "ipython3",
   "version": "3.7.1"
  }
 },
 "nbformat": 4,
 "nbformat_minor": 4
}
