{
 "cells": [
  {
   "cell_type": "code",
   "execution_count": 6,
   "metadata": {},
   "outputs": [],
   "source": [
    "import os\n",
    "import numpy as np\n",
    "import pandas as pd\n",
    "import random, math\n",
    "import subprocess"
   ]
  },
  {
   "cell_type": "code",
   "execution_count": 14,
   "metadata": {},
   "outputs": [
    {
     "data": {
      "text/plain": [
       "18446744073709551615"
      ]
     },
     "execution_count": 14,
     "metadata": {},
     "output_type": "execute_result"
    }
   ],
   "source": [
    "np.iinfo(np.uint64).max"
   ]
  },
  {
   "cell_type": "code",
   "execution_count": 7,
   "metadata": {},
   "outputs": [],
   "source": [
    "O = np.matrix([[0,0,1,1,0,0,1,0]\n",
    "              ,[1,0,1,0,0,1,0,1]\n",
    "              ,[1,0,1,0,0,1,0,0]\n",
    "              ,[0,0,1,1,0,0,1,0]\n",
    "              ,[0,0,1,0,0,0,1,0]\n",
    "              ,[0,0,1,1,0,0,1,0]\n",
    "              ,[0,0,1,1,0,0,0,0]\n",
    "              ,[1,0,1,0,0,1,0,1]\n",
    "              ,[0,0,1,0,0,0,1,0]\n",
    "              ,[0,0,0,0,0,0,0,0]])"
   ]
  },
  {
   "cell_type": "code",
   "execution_count": 8,
   "metadata": {},
   "outputs": [],
   "source": [
    "n,m = O.shape\n",
    "cell_names = ['cell'+str(i) for i in range(n)]\n",
    "mut_names = ['mut'+str(i) for i in range(m)]\n",
    "df = pd.DataFrame(O)\n",
    "df.columns = mut_names\n",
    "df.index = cell_names\n",
    "df.index.name = 'cellID/mutID'\n",
    "df.to_csv('O.txt', sep='\\t')"
   ]
  },
  {
   "cell_type": "code",
   "execution_count": 10,
   "metadata": {},
   "outputs": [
    {
     "name": "stdout",
     "output_type": "stream",
     "text": [
      "par_fnWeight\t12206.1\n",
      "par_fnWeight_neg\t13592.4\n",
      "par_fpWeight\t4605.17\n",
      "par_fpWeight_neg\t13815.4\n",
      "CPU times: user 1.91 ms, sys: 5.76 ms, total: 7.67 ms\n",
      "Wall time: 25.2 ms\n"
     ]
    }
   ],
   "source": [
    "%%time\n",
    "%%bash\n",
    "\n",
    "/data/frashidi/_Archived/1_PhISCS/csp-test/csp_maxsat \\\n",
    "    -s /data/frashidi/PhISCS/PhISCS/PhISCS-B/solvers/maxino/maxino-2015-k16-static -i \\\n",
    "    -f O.txt \\\n",
    "    -n 0.20 \\\n",
    "    -p 0.00010 \\\n",
    "    -o ."
   ]
  },
  {
   "cell_type": "code",
   "execution_count": null,
   "metadata": {},
   "outputs": [],
   "source": [
    "%%bash\n",
    "\n",
    "python /data/frashidi/PhISCS/code/PhISCS_ILP/PhISCS_ILP.py \\\n",
    "    -SCFile test.txt -fn 0.020 -fp 0.00010 \\\n",
    "    -o . -w 0 -kmax 0"
   ]
  },
  {
   "cell_type": "markdown",
   "metadata": {},
   "source": [
    "–––––––––––––––––––––––––––––––––––––––––––––––––––––––––––––––––––––––––––––––––––––––––––––––––––––––––––––––––––––"
   ]
  },
  {
   "cell_type": "code",
   "execution_count": null,
   "metadata": {},
   "outputs": [],
   "source": [
    "def important_columns(D):\n",
    "    ic = defaultdict(lambda: 0)\n",
    "    for p in range(D.shape[1]):\n",
    "        for q in range(p + 1, D.shape[1]):\n",
    "            conf_oneone = []\n",
    "            conf_zeroone = []\n",
    "            conf_onezero = []\n",
    "            for r in range(D.shape[0]):\n",
    "                if D[r][p] == 1 and D[r][q] == 1:\n",
    "                    conf_oneone.append(r)\n",
    "                if D[r][p] == 0 and D[r][q] == 1:\n",
    "                    conf_zeroone.append(r)\n",
    "                if D[r][p] == 1 and D[r][q] == 0:\n",
    "                    conf_onezero.append(r)\n",
    "            for r1 in conf_oneone:\n",
    "                for r2 in conf_zeroone:\n",
    "                    for r3 in conf_onezero:\n",
    "                        print(p,q, r1, r2, r3)\n",
    "                        ic[p] += 1\n",
    "                        ic[q] += 1\n",
    "    return sorted(ic.items(), key=operator.itemgetter(1), reverse=True)\n",
    "\n",
    "print(important_columns(noisy))"
   ]
  },
  {
   "cell_type": "code",
   "execution_count": 2,
   "metadata": {},
   "outputs": [],
   "source": [
    "# import pandas as pd\n",
    "\n",
    "# df = pd.DataFrame(noisy)\n",
    "# df.columns = ['mut'+str(i) for i in range(noisy.shape[1])]\n",
    "# df.index = ['cell'+str(i) for i in range(noisy.shape[0])]\n",
    "# df.index.name = 'cellID/mutID'\n",
    "# df.to_csv('noisy.SC', sep='\\t')\n",
    "\n",
    "# df = pd.read_csv(file, index_col=0, sep='\\t')"
   ]
  },
  {
   "cell_type": "markdown",
   "metadata": {},
   "source": [
    "[1] [ms package (paper)](https://academic.oup.com/bioinformatics/article/18/2/337/225783)  \n",
    "[2] [ms package (download)](http://home.uchicago.edu/~rhudson1/source/mksamples.html)  \n",
    "[3] [csp solvers](http://mse17.cs.helsinki.fi/descriptions.html)  \n",
    "[4] [PhISCS](https://www.biorxiv.org/content/early/2018/07/25/376996)  \n",
    "\n",
    "For installing maxino go to the url of [3] and then `wget` the `maxino` package. Then `unzip` it. Ater that go to the code folder and just run `make`. Then change `csp_solver_path` accordingly.  \n",
    "\n",
    "n = number of cells  \n",
    "m = number of mutations  \n",
    "seed = is a seed number of generating the ground truth by ms package (not important leave it as 1)  \n",
    "fn = false negative rate  \n",
    "fp = false positive rate  \n",
    "na = missing value rate"
   ]
  },
  {
   "cell_type": "code",
   "execution_count": null,
   "metadata": {},
   "outputs": [],
   "source": []
  }
 ],
 "metadata": {
  "kernelspec": {
   "display_name": "Python 3",
   "language": "python",
   "name": "python3"
  },
  "language_info": {
   "codemirror_mode": {
    "name": "ipython",
    "version": 3
   },
   "file_extension": ".py",
   "mimetype": "text/x-python",
   "name": "python",
   "nbconvert_exporter": "python",
   "pygments_lexer": "ipython3",
   "version": "3.7.1"
  }
 },
 "nbformat": 4,
 "nbformat_minor": 4
}
