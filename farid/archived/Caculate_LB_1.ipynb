{
 "cells": [
  {
   "cell_type": "code",
   "execution_count": 1,
   "metadata": {},
   "outputs": [],
   "source": [
    "import numpy as np\n",
    "import operator\n",
    "from collections import defaultdict"
   ]
  },
  {
   "cell_type": "code",
   "execution_count": 2,
   "metadata": {},
   "outputs": [],
   "source": [
    "def get_lower_bound(noisy):\n",
    "    def important_pair_of_columns_in_conflict(D):\n",
    "        important_columns = defaultdict(lambda: 0)\n",
    "        for p in range(D.shape[1]):\n",
    "            for q in range(p + 1, D.shape[1]):\n",
    "                oneone = 0\n",
    "                zeroone = 0\n",
    "                onezero = 0\n",
    "                for r in range(D.shape[0]):\n",
    "                    if D[r,p] == 1 and D[r,q] == 1:\n",
    "                        oneone += 1\n",
    "                    if D[r,p] == 0 and D[r,q] == 1:\n",
    "                        zeroone += 1\n",
    "                    if D[r,p] == 1 and D[r,q] == 0:\n",
    "                        onezero += 1\n",
    "                if oneone*zeroone*onezero > 0:\n",
    "                    important_columns[(p,q)] += oneone*zeroone*onezero\n",
    "        return important_columns\n",
    "    \n",
    "    def get_partinion(D):\n",
    "        ipofic = important_pair_of_columns_in_conflict(D)\n",
    "        if len(ipofic) == 0:\n",
    "            return []\n",
    "        sorted_ipofic = sorted(ipofic.items(), key=operator.itemgetter(1), reverse=True)\n",
    "        pairs = [sorted_ipofic[0][0]]\n",
    "        elements = [sorted_ipofic[0][0][0], sorted_ipofic[0][0][1]]\n",
    "        sorted_ipofic.remove(sorted_ipofic[0])\n",
    "        for x in sorted_ipofic[:]:\n",
    "            notFound = True\n",
    "            for y in x[0]:\n",
    "                if y in elements:\n",
    "                    sorted_ipofic.remove(x)\n",
    "                    notFound = False\n",
    "                    break\n",
    "            if notFound:\n",
    "                pairs.append(x[0])\n",
    "                elements.append(x[0][0])\n",
    "                elements.append(x[0][1])\n",
    "        #print(sorted_ipofic, pairs, elements)\n",
    "        partitions = []\n",
    "        for x in pairs:\n",
    "            partitions.append(D[:,x])\n",
    "        return partitions\n",
    "    \n",
    "    def lower_bound_for_a_pair_of_columns(D):\n",
    "        foundOneOne = False\n",
    "        numberOfZeroOne = 0\n",
    "        numberOfOneZero = 1\n",
    "        for r in range(D.shape[0]):\n",
    "            if D[r,0] == 1 and D[r,1] == 1:\n",
    "                foundOneOne = True\n",
    "            if D[r,0] == 0 and D[r,1] == 1:\n",
    "                numberOfZeroOne += 1\n",
    "            if D[r,0] == 1 and D[r,1] == 0:\n",
    "                numberOfOneZero += 1\n",
    "        if foundOneOne:\n",
    "            if numberOfZeroOne*numberOfOneZero > 0:\n",
    "                return min(numberOfZeroOne, numberOfOneZero)\n",
    "        return None\n",
    "    \n",
    "    LB = []\n",
    "    for D in get_partinion(noisy):\n",
    "        LB.append(lower_bound_for_a_pair_of_columns(D))\n",
    "    return sum(LB)"
   ]
  },
  {
   "cell_type": "code",
   "execution_count": 3,
   "metadata": {},
   "outputs": [
    {
     "data": {
      "text/plain": [
       "1"
      ]
     },
     "execution_count": 3,
     "metadata": {},
     "output_type": "execute_result"
    }
   ],
   "source": [
    "noisy = np.array([\n",
    "    [0,1,1,0],\n",
    "    [1,0,0,1],\n",
    "    [1,1,0,0],\n",
    "    [0,0,1,0]\n",
    "])\n",
    "\n",
    "get_lower_bound(noisy)"
   ]
  },
  {
   "cell_type": "code",
   "execution_count": null,
   "metadata": {},
   "outputs": [],
   "source": []
  }
 ],
 "metadata": {
  "kernelspec": {
   "display_name": "Python 3",
   "language": "python",
   "name": "python3"
  },
  "language_info": {
   "codemirror_mode": {
    "name": "ipython",
    "version": 3
   },
   "file_extension": ".py",
   "mimetype": "text/x-python",
   "name": "python",
   "nbconvert_exporter": "python",
   "pygments_lexer": "ipython3",
   "version": "3.7.1"
  }
 },
 "nbformat": 4,
 "nbformat_minor": 4
}
