{
 "cells": [
  {
   "cell_type": "code",
   "execution_count": 4,
   "metadata": {},
   "outputs": [],
   "source": [
    "import pybnb\n",
    "import numpy as np\n",
    "from utils import *\n",
    "import operator\n",
    "from collections import defaultdict\n",
    "\n",
    "ms_package_path = '/home/frashidi/software/bin/ms'\n",
    "csp_solver_path = '/home/frashidi/software/temp/csp_solvers/maxino/code/build/release/maxino'"
   ]
  },
  {
   "cell_type": "code",
   "execution_count": 5,
   "metadata": {},
   "outputs": [
    {
     "name": "stdout",
     "output_type": "stream",
     "text": [
      "(array([4, 4, 7, 8]), array([2, 3, 2, 2]))\n"
     ]
    }
   ],
   "source": [
    "ground, noisy, (countFN,countFP,countNA) = get_data(n=10, m=8, seed=1, fn=0.20, fp=0, na=0, \n",
    "                                                    ms_package_path=ms_package_path)\n",
    "# print(noisy)\n",
    "\n",
    "solution, (flips_0_1, flips_1_0, flips_2_0, flips_2_1) = PhISCS_I(noisy, beta=0.20, alpha=0.0001)\n",
    "# print(solution)\n",
    "\n",
    "# solution = PhISCS_B(noisy, beta=0.20, alpha=0.0000000001, csp_solver_path=csp_solver_path)\n",
    "# print(solution)\n",
    "\n",
    "print(np.where(solution != noisy))"
   ]
  },
  {
   "cell_type": "code",
   "execution_count": 6,
   "metadata": {},
   "outputs": [],
   "source": [
    "def number_of_conflicts(D):\n",
    "        noc = 0\n",
    "        for p in range(D.shape[1]):\n",
    "            for q in range(p + 1, D.shape[1]):\n",
    "                oneone = 0\n",
    "                zeroone = 0\n",
    "                onezero = 0\n",
    "                for r in range(D.shape[0]):\n",
    "                    if D[r][p] == 1 and D[r][q] == 1:\n",
    "                        oneone += 1\n",
    "                    if D[r][p] == 0 and D[r][q] == 1:\n",
    "                        zeroone += 1\n",
    "                    if D[r][p] == 1 and D[r][q] == 0:\n",
    "                        onezero += 1\n",
    "                noc += oneone*zeroone*onezero\n",
    "        return noc"
   ]
  },
  {
   "cell_type": "code",
   "execution_count": 10,
   "metadata": {},
   "outputs": [],
   "source": [
    "def get_lower_bound(noisy):\n",
    "    def important_pair_of_columns_in_conflict(D):\n",
    "        important_columns = defaultdict(lambda: 0)\n",
    "        for p in range(D.shape[1]):\n",
    "            for q in range(p + 1, D.shape[1]):\n",
    "                oneone = 0\n",
    "                zeroone = 0\n",
    "                onezero = 0\n",
    "                for r in range(D.shape[0]):\n",
    "                    if D[r,p] == 1 and D[r,q] == 1:\n",
    "                        oneone += 1\n",
    "                    if D[r,p] == 0 and D[r,q] == 1:\n",
    "                        zeroone += 1\n",
    "                    if D[r,p] == 1 and D[r,q] == 0:\n",
    "                        onezero += 1\n",
    "                if oneone*zeroone*onezero > 0:\n",
    "                    important_columns[(p,q)] += oneone*zeroone*onezero\n",
    "        return important_columns\n",
    "    \n",
    "    def get_partinion(D):\n",
    "        ipofic = important_pair_of_columns_in_conflict(D)\n",
    "        if len(ipofic) == 0:\n",
    "            return []\n",
    "        sorted_ipofic = sorted(ipofic.items(), key=operator.itemgetter(1), reverse=True)\n",
    "        pairs = [sorted_ipofic[0][0]]\n",
    "        elements = [sorted_ipofic[0][0][0], sorted_ipofic[0][0][1]]\n",
    "        sorted_ipofic.remove(sorted_ipofic[0])\n",
    "        for x in sorted_ipofic[:]:\n",
    "            notFound = True\n",
    "            for y in x[0]:\n",
    "                if y in elements:\n",
    "                    sorted_ipofic.remove(x)\n",
    "                    notFound = False\n",
    "                    break\n",
    "            if notFound:\n",
    "                pairs.append(x[0])\n",
    "                elements.append(x[0][0])\n",
    "                elements.append(x[0][1])\n",
    "        #print(sorted_ipofic, pairs, elements)\n",
    "        partitions = []\n",
    "        for x in pairs:\n",
    "            partitions.append(D[:,x])\n",
    "        return partitions\n",
    "    \n",
    "    def lower_bound_for_a_pair_of_columns(D):\n",
    "        foundOneOne = False\n",
    "        numberOfZeroOne = 0\n",
    "        numberOfOneZero = 1\n",
    "        for r in range(D.shape[0]):\n",
    "            if D[r,0] == 1 and D[r,1] == 1:\n",
    "                foundOneOne = True\n",
    "            if D[r,0] == 0 and D[r,1] == 1:\n",
    "                numberOfZeroOne += 1\n",
    "            if D[r,0] == 1 and D[r,1] == 0:\n",
    "                numberOfOneZero += 1\n",
    "        if foundOneOne:\n",
    "            if numberOfZeroOne*numberOfOneZero > 0:\n",
    "                return min(numberOfZeroOne, numberOfOneZero)\n",
    "        return None\n",
    "    \n",
    "    LB = []\n",
    "    for D in get_partinion(noisy):\n",
    "        LB.append(lower_bound_for_a_pair_of_columns(D))\n",
    "    return sum(LB)"
   ]
  },
  {
   "cell_type": "code",
   "execution_count": 11,
   "metadata": {},
   "outputs": [],
   "source": [
    "noisy = np.array([\n",
    "    [0,1,1,0],\n",
    "    [1,0,0,1],\n",
    "    [1,1,0,0],\n",
    "    [0,0,1,0]\n",
    "])"
   ]
  },
  {
   "cell_type": "code",
   "execution_count": 12,
   "metadata": {},
   "outputs": [
    {
     "name": "stdout",
     "output_type": "stream",
     "text": [
      "Starting branch & bound solve:\n",
      " - dispatcher pid: 126619 (phi.cs.indiana.edu)\n",
      " - worker processes: 1\n",
      "--------------------------------------------------------------------------------------------------------------------------\n",
      "         Nodes        |                      Objective Bounds                       |              Work              \n",
      "      Expl    Unexpl  |      Incumbent           Bound    Rel. Gap         Abs. Gap | Time (s)  Nodes/Sec Imbalance   Idle\n",
      "         0         1  |            inf            -inf         inf%             inf |      0.0       0.00     0.00%      0\n",
      "         1         2  |            inf               1         inf%             inf |      0.0     699.98     0.00%      0\n",
      "WARNING: Bound became worse (old=1, new=0)\n",
      "*       20        21  |              4               0  100.000000%               4 |      0.0    3939.98     0.00%      0\n",
      "WARNING: Bound became worse (old=1, new=0)\n",
      "*       54        23  |              3               0  100.000000%               3 |      0.0    6513.87     0.00%      0\n",
      "WARNING: Bound became worse (old=1, new=0)\n",
      "WARNING: Bound became worse (old=1, new=0)\n",
      "WARNING: Bound became worse (old=1, new=0)\n",
      "WARNING: Bound became worse (old=1, new=0)\n",
      "WARNING: Bound became worse (old=1, new=0)\n",
      "WARNING: Bound became worse (old=1, new=0)\n",
      "WARNING: Bound became worse (old=1, new=0)\n",
      "WARNING: Bound became worse (old=1, new=0)\n",
      "*      190        75  |              2               0  100.000000%               2 |      0.0    5667.11     0.00%      0\n",
      "      Expl    Unexpl  |      Incumbent           Bound    Rel. Gap         Abs. Gap | Time (s)  Nodes/Sec Imbalance   Idle\n",
      "       279         0  |              2               0  100.000000%               2 |      0.0    7804.97     0.00%      0\n",
      "--------------------------------------------------------------------------------------------------------------------------\n",
      "\n",
      "Feasible solution found\n",
      "\n",
      "solver results:\n",
      " - solution_status: feasible\n",
      " - termination_condition: queue_empty\n",
      " - objective: 2\n",
      " - bound: 0\n",
      " - absolute_gap: 2\n",
      " - relative_gap: 1\n",
      " - nodes: 279\n",
      " - wall_time: 47.56 ms\n",
      " - best_node: Node(objective=2)\n",
      "\n",
      "Number of Workers:        1\n",
      "Load Imbalance:       0.00%\n",
      " - min: 279 (proc rank=0)\n",
      " - max: 279 (proc rank=0)\n",
      "Average Worker Timing:\n",
      " - queue:      12.21% [avg time:  20.8 us, count: 279]\n",
      " - load_state:  0.54% [avg time: 919.5 ns, count: 279]\n",
      " - bound:      32.53% [avg time:  55.5 us, count: 279]\n",
      " - objective:  25.14% [avg time:  46.0 us, count: 260]\n",
      " - branch:      4.16% [avg time:   7.6 us, count: 260]\n",
      " - other:      25.41% [avg time:  43.3 us, count: 279]\n",
      "\n",
      "(array([[0, 1, 1, 0],\n",
      "       [1, 1, 0, 1],\n",
      "       [1, 1, 0, 0],\n",
      "       [0, 1, 1, 0]]), 8, 2)\n"
     ]
    }
   ],
   "source": [
    "class PhISCS(pybnb.Problem):\n",
    "    def __init__(self, I):\n",
    "        self.I = I\n",
    "        self.X = np.where(self.I == 0)\n",
    "        self.flip = 0\n",
    "        self.idx = 0\n",
    "    \n",
    "    def sense(self):\n",
    "        return pybnb.minimize\n",
    "\n",
    "    def objective(self):\n",
    "        nc = number_of_conflicts(self.I)\n",
    "        if nc == 0:\n",
    "            return self.flip\n",
    "        else:\n",
    "            return pybnb.Problem.infeasible_objective(self)\n",
    "\n",
    "    def bound(self):\n",
    "        return get_lower_bound(self.I)\n",
    "\n",
    "    def save_state(self, node):\n",
    "        node.state = (self.I, self.idx, self.flip)\n",
    "\n",
    "    def load_state(self, node):\n",
    "        self.I, self.idx, self.flip = node.state\n",
    "\n",
    "    def branch(self):\n",
    "        if self.idx < len(self.X[0]):\n",
    "            node = pybnb.Node()\n",
    "            I = self.I.copy()\n",
    "            x = self.X[0][self.idx]\n",
    "            y = self.X[1][self.idx]\n",
    "            I[x, y] = 1\n",
    "            node.state = (I, self.idx+1, self.flip+1)\n",
    "            yield node\n",
    "            \n",
    "            node = pybnb.Node()\n",
    "            I = self.I.copy()\n",
    "            x = self.X[0][self.idx]\n",
    "            y = self.X[1][self.idx]\n",
    "            I[x, y] = 0\n",
    "            node.state = (I, self.idx+1, self.flip)\n",
    "            yield node\n",
    "\n",
    "problem = PhISCS(noisy)\n",
    "results = pybnb.solve(problem)\n",
    "\n",
    "print(results.best_node.state)"
   ]
  },
  {
   "cell_type": "code",
   "execution_count": 7,
   "metadata": {},
   "outputs": [
    {
     "data": {
      "text/plain": [
       "True"
      ]
     },
     "execution_count": 7,
     "metadata": {},
     "output_type": "execute_result"
    }
   ],
   "source": [
    "a = np.array([[0, 1, 1, 0],\n",
    "       [1, 1, 0, 1],\n",
    "       [1, 1, 0, 0],\n",
    "       [0, 1, 1, 0]])\n",
    "is_conflict_free(a)"
   ]
  },
  {
   "cell_type": "code",
   "execution_count": null,
   "metadata": {},
   "outputs": [],
   "source": []
  },
  {
   "cell_type": "markdown",
   "metadata": {},
   "source": [
    "–––––––––––––––––––––––––––––––––––––––––––––––––––––––––––––––––––––––––––––––––––––––––––––––––––––––––––––––––––––"
   ]
  },
  {
   "cell_type": "code",
   "execution_count": 16,
   "metadata": {},
   "outputs": [],
   "source": [
    "# import pandas as pd\n",
    "\n",
    "# df = pd.DataFrame(noisy)\n",
    "# df.columns = ['mut'+str(i) for i in range(noisy.shape[1])]\n",
    "# df.index = ['cell'+str(i) for i in range(noisy.shape[0])]\n",
    "# df.index.name = 'cellID/mutID'\n",
    "# df.to_csv('noisy.SC', sep='\\t')\n",
    "\n",
    "# df = pd.read_csv(file, index_col=0, sep='\\t')"
   ]
  },
  {
   "cell_type": "markdown",
   "metadata": {},
   "source": [
    "[1] [ms package (paper)](https://academic.oup.com/bioinformatics/article/18/2/337/225783)  \n",
    "[2] [ms package (download)](http://home.uchicago.edu/~rhudson1/source/mksamples.html)  \n",
    "[3] [csp solvers](http://mse17.cs.helsinki.fi/descriptions.html)  \n",
    "[4] [PhISCS](https://www.biorxiv.org/content/early/2018/07/25/376996)  \n",
    "\n",
    "For installing maxino go to the url of [3] and then `wget` the `maxino` package. Then `unzip` it. Ater that go to the code folder and just run `make`. Then change `csp_solver_path` accordingly.  \n",
    "\n",
    "n = number of cells  \n",
    "m = number of mutations  \n",
    "seed = is a seed number of generating the ground truth by ms package (not important leave it as 1)  \n",
    "fn = false negative rate  \n",
    "fp = false positive rate  \n",
    "na = missing value rate"
   ]
  }
 ],
 "metadata": {
  "kernelspec": {
   "display_name": "Python 3",
   "language": "python",
   "name": "python3"
  },
  "language_info": {
   "codemirror_mode": {
    "name": "ipython",
    "version": 3
   },
   "file_extension": ".py",
   "mimetype": "text/x-python",
   "name": "python",
   "nbconvert_exporter": "python",
   "pygments_lexer": "ipython3",
   "version": "3.7.1"
  }
 },
 "nbformat": 4,
 "nbformat_minor": 4
}
