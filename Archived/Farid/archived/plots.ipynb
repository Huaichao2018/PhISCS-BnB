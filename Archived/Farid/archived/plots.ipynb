{
 "cells": [
  {
   "cell_type": "code",
   "execution_count": 1,
   "metadata": {},
   "outputs": [],
   "source": [
    "import pandas as pd\n",
    "import seaborn as sns\n",
    "import numpy as np\n",
    "%config InlineBackend.figure_format = 'retina'"
   ]
  },
  {
   "cell_type": "code",
   "execution_count": 2,
   "metadata": {},
   "outputs": [],
   "source": [
    "df = pd.read_csv('results-lp.txt', header=None)"
   ]
  },
  {
   "cell_type": "code",
   "execution_count": 3,
   "metadata": {},
   "outputs": [
    {
     "data": {
      "text/html": [
       "<div>\n",
       "<style scoped>\n",
       "    .dataframe tbody tr th:only-of-type {\n",
       "        vertical-align: middle;\n",
       "    }\n",
       "\n",
       "    .dataframe tbody tr th {\n",
       "        vertical-align: top;\n",
       "    }\n",
       "\n",
       "    .dataframe thead th {\n",
       "        text-align: right;\n",
       "    }\n",
       "</style>\n",
       "<table border=\"1\" class=\"dataframe\">\n",
       "  <thead>\n",
       "    <tr style=\"text-align: right;\">\n",
       "      <th></th>\n",
       "      <th>0</th>\n",
       "      <th>1</th>\n",
       "      <th>2</th>\n",
       "      <th>3</th>\n",
       "      <th>4</th>\n",
       "      <th>5</th>\n",
       "      <th>6</th>\n",
       "      <th>7</th>\n",
       "      <th>8</th>\n",
       "      <th>9</th>\n",
       "      <th>10</th>\n",
       "      <th>11</th>\n",
       "      <th>12</th>\n",
       "      <th>13</th>\n",
       "      <th>14</th>\n",
       "      <th>15</th>\n",
       "      <th>16</th>\n",
       "      <th>17</th>\n",
       "      <th>18</th>\n",
       "    </tr>\n",
       "  </thead>\n",
       "  <tbody>\n",
       "    <tr>\n",
       "      <th>658</th>\n",
       "      <td>64</td>\n",
       "      <td>64</td>\n",
       "      <td>0.2</td>\n",
       "      <td>111</td>\n",
       "      <td>0</td>\n",
       "      <td>0</td>\n",
       "      <td>86</td>\n",
       "      <td>86</td>\n",
       "      <td>86</td>\n",
       "      <td>22.717</td>\n",
       "      <td>1919.192</td>\n",
       "      <td>0.414</td>\n",
       "      <td>0.003</td>\n",
       "      <td>0.112</td>\n",
       "      <td>1942.437</td>\n",
       "      <td>17.832</td>\n",
       "      <td>0.420</td>\n",
       "      <td>87</td>\n",
       "      <td>True</td>\n",
       "    </tr>\n",
       "    <tr>\n",
       "      <th>659</th>\n",
       "      <td>64</td>\n",
       "      <td>64</td>\n",
       "      <td>0.2</td>\n",
       "      <td>104</td>\n",
       "      <td>0</td>\n",
       "      <td>0</td>\n",
       "      <td>79</td>\n",
       "      <td>79</td>\n",
       "      <td>79</td>\n",
       "      <td>24.591</td>\n",
       "      <td>1911.864</td>\n",
       "      <td>0.412</td>\n",
       "      <td>0.002</td>\n",
       "      <td>0.105</td>\n",
       "      <td>1936.973</td>\n",
       "      <td>29.843</td>\n",
       "      <td>0.357</td>\n",
       "      <td>80</td>\n",
       "      <td>True</td>\n",
       "    </tr>\n",
       "    <tr>\n",
       "      <th>660</th>\n",
       "      <td>64</td>\n",
       "      <td>64</td>\n",
       "      <td>0.2</td>\n",
       "      <td>105</td>\n",
       "      <td>0</td>\n",
       "      <td>0</td>\n",
       "      <td>79</td>\n",
       "      <td>79</td>\n",
       "      <td>79</td>\n",
       "      <td>21.792</td>\n",
       "      <td>1928.311</td>\n",
       "      <td>0.398</td>\n",
       "      <td>0.002</td>\n",
       "      <td>0.099</td>\n",
       "      <td>1950.602</td>\n",
       "      <td>21.422</td>\n",
       "      <td>0.486</td>\n",
       "      <td>80</td>\n",
       "      <td>True</td>\n",
       "    </tr>\n",
       "    <tr>\n",
       "      <th>661</th>\n",
       "      <td>64</td>\n",
       "      <td>64</td>\n",
       "      <td>0.2</td>\n",
       "      <td>105</td>\n",
       "      <td>0</td>\n",
       "      <td>0</td>\n",
       "      <td>83</td>\n",
       "      <td>83</td>\n",
       "      <td>83</td>\n",
       "      <td>22.882</td>\n",
       "      <td>1955.859</td>\n",
       "      <td>0.405</td>\n",
       "      <td>0.002</td>\n",
       "      <td>0.107</td>\n",
       "      <td>1979.256</td>\n",
       "      <td>33.666</td>\n",
       "      <td>0.364</td>\n",
       "      <td>84</td>\n",
       "      <td>True</td>\n",
       "    </tr>\n",
       "    <tr>\n",
       "      <th>662</th>\n",
       "      <td>64</td>\n",
       "      <td>64</td>\n",
       "      <td>0.2</td>\n",
       "      <td>103</td>\n",
       "      <td>0</td>\n",
       "      <td>0</td>\n",
       "      <td>76</td>\n",
       "      <td>76</td>\n",
       "      <td>76</td>\n",
       "      <td>23.586</td>\n",
       "      <td>3079.566</td>\n",
       "      <td>0.788</td>\n",
       "      <td>0.004</td>\n",
       "      <td>0.184</td>\n",
       "      <td>3104.127</td>\n",
       "      <td>28.044</td>\n",
       "      <td>0.332</td>\n",
       "      <td>358</td>\n",
       "      <td>True</td>\n",
       "    </tr>\n",
       "  </tbody>\n",
       "</table>\n",
       "</div>"
      ],
      "text/plain": [
       "     0   1    2    3   4   5   6   7   8       9         10     11     12  \\\n",
       "658  64  64  0.2  111   0   0  86  86  86  22.717  1919.192  0.414  0.003   \n",
       "659  64  64  0.2  104   0   0  79  79  79  24.591  1911.864  0.412  0.002   \n",
       "660  64  64  0.2  105   0   0  79  79  79  21.792  1928.311  0.398  0.002   \n",
       "661  64  64  0.2  105   0   0  83  83  83  22.882  1955.859  0.405  0.002   \n",
       "662  64  64  0.2  103   0   0  76  76  76  23.586  3079.566  0.788  0.004   \n",
       "\n",
       "        13        14      15     16   17    18  \n",
       "658  0.112  1942.437  17.832  0.420   87  True  \n",
       "659  0.105  1936.973  29.843  0.357   80  True  \n",
       "660  0.099  1950.602  21.422  0.486   80  True  \n",
       "661  0.107  1979.256  33.666  0.364   84  True  \n",
       "662  0.184  3104.127  28.044  0.332  358  True  "
      ]
     },
     "execution_count": 3,
     "metadata": {},
     "output_type": "execute_result"
    }
   ],
   "source": [
    "df.tail()"
   ]
  },
  {
   "cell_type": "code",
   "execution_count": 4,
   "metadata": {},
   "outputs": [],
   "source": [
    "# df[(df[0] == 64) & (df[1] == 64)].shape\n",
    "# df[10], df[15]"
   ]
  },
  {
   "cell_type": "code",
   "execution_count": 7,
   "metadata": {},
   "outputs": [
    {
     "data": {
      "text/plain": [
       "<matplotlib.axes._subplots.AxesSubplot at 0x7f7afda36048>"
      ]
     },
     "execution_count": 7,
     "metadata": {},
     "output_type": "execute_result"
    },
    {
     "data": {
      "image/png": "[encoded data removed]",
      "text/plain": [
       "<Figure size 432x288 with 1 Axes>"
      ]
     },
     "metadata": {
      "image/png": {
       "height": 248,
       "width": 372
      },
      "needs_background": "light"
     },
     "output_type": "display_data"
    }
   ],
   "source": [
    "t = df[df[6] == 65]\n",
    "sns.scatterplot(np.log(t[10].values), np.log(t[15].values))\n",
    "sns.lineplot(np.arange(0,5),np.arange(0,5))"
   ]
  },
  {
   "cell_type": "code",
   "execution_count": null,
   "metadata": {},
   "outputs": [],
   "source": []
  }
 ],
 "metadata": {
  "kernelspec": {
   "display_name": "Python 3",
   "language": "python",
   "name": "python3"
  },
  "language_info": {
   "codemirror_mode": {
    "name": "ipython",
    "version": 3
   },
   "file_extension": ".py",
   "mimetype": "text/x-python",
   "name": "python",
   "nbconvert_exporter": "python",
   "pygments_lexer": "ipython3",
   "version": "3.7.1"
  }
 },
 "nbformat": 4,
 "nbformat_minor": 4
}
